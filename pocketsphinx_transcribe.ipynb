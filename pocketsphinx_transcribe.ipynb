{
  "nbformat": 4,
  "nbformat_minor": 0,
  "metadata": {
    "colab": {
      "provenance": [],
      "authorship_tag": "ABX9TyONE7ZxB5PaIFFUcKaPtnQ9",
      "include_colab_link": true
    },
    "kernelspec": {
      "name": "python3",
      "display_name": "Python 3"
    },
    "language_info": {
      "name": "python"
    }
  },
  "cells": [
    {
      "cell_type": "markdown",
      "metadata": {
        "id": "view-in-github",
        "colab_type": "text"
      },
      "source": [
        "<a href=\"https://colab.research.google.com/github/ethanrom/pocketsphinx-keyword-timestamp-search/blob/main/pocketsphinx_transcribe.ipynb\" target=\"_parent\"><img src=\"https://colab.research.google.com/assets/colab-badge.svg\" alt=\"Open In Colab\"/></a>"
      ]
    },
    {
      "cell_type": "code",
      "execution_count": 1,
      "metadata": {
        "colab": {
          "base_uri": "https://localhost:8080/"
        },
        "id": "cT9G7IzW7cbJ",
        "outputId": "7ded3b3a-7d3b-46ec-aac0-d08c0d79138c"
      },
      "outputs": [
        {
          "output_type": "stream",
          "name": "stdout",
          "text": [
            "Looking in indexes: https://pypi.org/simple, https://us-python.pkg.dev/colab-wheels/public/simple/\n",
            "Collecting pocketsphinx\n",
            "  Downloading pocketsphinx-5.0.0-cp38-cp38-manylinux_2_17_x86_64.manylinux2014_x86_64.whl (29.1 MB)\n",
            "\u001b[2K     \u001b[90m━━━━━━━━━━━━━━━━━━━━━━━━━━━━━━━━━━━━━━━━\u001b[0m \u001b[32m29.1/29.1 MB\u001b[0m \u001b[31m56.4 MB/s\u001b[0m eta \u001b[36m0:00:00\u001b[0m\n",
            "\u001b[?25hCollecting sounddevice\n",
            "  Downloading sounddevice-0.4.5-py3-none-any.whl (31 kB)\n",
            "Requirement already satisfied: CFFI>=1.0 in /usr/local/lib/python3.8/dist-packages (from sounddevice->pocketsphinx) (1.15.1)\n",
            "Requirement already satisfied: pycparser in /usr/local/lib/python3.8/dist-packages (from CFFI>=1.0->sounddevice->pocketsphinx) (2.21)\n",
            "Installing collected packages: sounddevice, pocketsphinx\n",
            "Successfully installed pocketsphinx-5.0.0 sounddevice-0.4.5\n"
          ]
        }
      ],
      "source": [
        "!pip install pocketsphinx"
      ]
    },
    {
      "cell_type": "code",
      "source": [
        "!pip install SpeechRecognition"
      ],
      "metadata": {
        "colab": {
          "base_uri": "https://localhost:8080/"
        },
        "id": "0Ywa1JByFFbm",
        "outputId": "ff62e879-e9fe-4135-dea8-dd65e72a08a9"
      },
      "execution_count": 5,
      "outputs": [
        {
          "output_type": "stream",
          "name": "stdout",
          "text": [
            "Looking in indexes: https://pypi.org/simple, https://us-python.pkg.dev/colab-wheels/public/simple/\n",
            "Collecting SpeechRecognition\n",
            "  Downloading SpeechRecognition-3.9.0-py2.py3-none-any.whl (32.8 MB)\n",
            "\u001b[2K     \u001b[90m━━━━━━━━━━━━━━━━━━━━━━━━━━━━━━━━━━━━━━━━\u001b[0m \u001b[32m32.8/32.8 MB\u001b[0m \u001b[31m64.3 MB/s\u001b[0m eta \u001b[36m0:00:00\u001b[0m\n",
            "\u001b[?25hCollecting requests>=2.26.0\n",
            "  Downloading requests-2.28.2-py3-none-any.whl (62 kB)\n",
            "\u001b[2K     \u001b[90m━━━━━━━━━━━━━━━━━━━━━━━━━━━━━━━━━━━━━━━━\u001b[0m \u001b[32m62.8/62.8 KB\u001b[0m \u001b[31m8.0 MB/s\u001b[0m eta \u001b[36m0:00:00\u001b[0m\n",
            "\u001b[?25hRequirement already satisfied: certifi>=2017.4.17 in /usr/local/lib/python3.8/dist-packages (from requests>=2.26.0->SpeechRecognition) (2022.12.7)\n",
            "Requirement already satisfied: charset-normalizer<4,>=2 in /usr/local/lib/python3.8/dist-packages (from requests>=2.26.0->SpeechRecognition) (2.1.1)\n",
            "Requirement already satisfied: urllib3<1.27,>=1.21.1 in /usr/local/lib/python3.8/dist-packages (from requests>=2.26.0->SpeechRecognition) (1.24.3)\n",
            "Requirement already satisfied: idna<4,>=2.5 in /usr/local/lib/python3.8/dist-packages (from requests>=2.26.0->SpeechRecognition) (2.10)\n",
            "Installing collected packages: requests, SpeechRecognition\n",
            "  Attempting uninstall: requests\n",
            "    Found existing installation: requests 2.25.1\n",
            "    Uninstalling requests-2.25.1:\n",
            "      Successfully uninstalled requests-2.25.1\n",
            "Successfully installed SpeechRecognition-3.9.0 requests-2.28.2\n"
          ]
        }
      ]
    },
    {
      "cell_type": "code",
      "source": [
        "!gdown 149RPd8UQiZaOglUsQrsaAFhe3mSS4IuR"
      ],
      "metadata": {
        "colab": {
          "base_uri": "https://localhost:8080/"
        },
        "id": "TvPHxpj-EiyL",
        "outputId": "612bd569-ad8d-4782-ee7a-4fb9f4336dca"
      },
      "execution_count": 3,
      "outputs": [
        {
          "output_type": "stream",
          "name": "stdout",
          "text": [
            "Downloading...\n",
            "From: https://drive.google.com/uc?id=149RPd8UQiZaOglUsQrsaAFhe3mSS4IuR\n",
            "To: /content/No Time Like The Past Final Scene.wav\n",
            "100% 28.4M/28.4M [00:00<00:00, 38.7MB/s]\n"
          ]
        }
      ]
    },
    {
      "cell_type": "markdown",
      "source": [
        "Audio transcribing and displaying minute wise"
      ],
      "metadata": {
        "id": "JCf7Rfp-KuBX"
      }
    },
    {
      "cell_type": "code",
      "source": [
        "import speech_recognition as sr\n",
        "\n",
        "# Load the audio file\n",
        "audio_file = sr.AudioFile(\"audio_file.wav\")\n",
        "\n",
        "# Create a recognizer object\n",
        "r = sr.Recognizer()\n",
        "\n",
        "# Set the duration of each segment\n",
        "segment_duration = 60 # in seconds\n",
        "\n",
        "# Calculate the total duration of the audio file\n",
        "with audio_file as source:\n",
        "    audio = r.record(source)\n",
        "    audio_duration = len(audio.get_raw_data()) / audio.sample_rate\n",
        "\n",
        "# Define a function to format the time\n",
        "def format_time(seconds):\n",
        "    m, s = divmod(seconds, 60)\n",
        "    h, m = divmod(m, 60)\n",
        "    return \"{:01d}:{:02d}:{:02d}\".format(h, m, s)\n",
        "\n",
        "# Repeat for each segment\n",
        "start_time = 0\n",
        "while start_time < audio_duration:\n",
        "    # Record the audio for the current segment\n",
        "    with audio_file as source:\n",
        "        audio = r.record(source, offset=start_time, duration=segment_duration)\n",
        "        if len(audio.get_raw_data()) == 0:\n",
        "            break\n",
        "\n",
        "    # Transcribe the audio\n",
        "    transcription = r.recognize_sphinx(audio)\n",
        "\n",
        "    # Display the transcription with a timestamp\n",
        "    print(\"{}: {}\".format(format_time(start_time), transcription))\n",
        "\n",
        "    # Increment the start time\n",
        "    start_time += segment_duration\n"
      ],
      "metadata": {
        "colab": {
          "base_uri": "https://localhost:8080/"
        },
        "id": "sDJOOquNAx21",
        "outputId": "5c25480d-9430-4ca2-c985-ab594a46d2c8"
      },
      "execution_count": 12,
      "outputs": [
        {
          "output_type": "stream",
          "name": "stdout",
          "text": [
            "0:00:00: bones in continue indeed because you didn't you knew they'd be a file in you have done this afternoon at two o'clock what i didn't know what i'm nolan ryan caught in a should've come here i know that no it won't work on land what it's been what is known to many things so they know i know and who many tomorrow homeless how human history how you and what wall living thing though\n",
            "0:01:00: your history and and i can't change what i can if you touch color blind and because the past is a violent acts to see what it belongs to those of you who live in and it's not for interlopers for people who just passing by ok an english to one near you come i'm going to right where i came for which no one world that among them i find out who love doesn't make him to have to woo who actually in front of even so i from what i\n",
            "0:02:00: stupid because you were here and i i'm lou lose they know we're going goodbye and whose kahuna in in two\n"
          ]
        }
      ]
    },
    {
      "cell_type": "markdown",
      "source": [
        "only show time stamps containg specific phase \"color blind\""
      ],
      "metadata": {
        "id": "ZIXnBXnzK0gA"
      }
    },
    {
      "cell_type": "code",
      "source": [
        "import speech_recognition as sr\n",
        "\n",
        "# Load the audio file\n",
        "audio_file = sr.AudioFile(\"audio_file.wav\")\n",
        "\n",
        "# Create a recognizer object\n",
        "r = sr.Recognizer()\n",
        "\n",
        "# Set the duration of each segment\n",
        "segment_duration = 60 # in seconds\n",
        "\n",
        "# Calculate the total duration of the audio file\n",
        "with audio_file as source:\n",
        "    audio = r.record(source)\n",
        "    audio_duration = len(audio.get_raw_data()) / audio.sample_rate\n",
        "\n",
        "# Define a function to format the time\n",
        "def format_time(seconds):\n",
        "    m, s = divmod(seconds, 60)\n",
        "    h, m = divmod(m, 60)\n",
        "    return \"{:01d}:{:02d}:{:02d}\".format(h, m, s)\n",
        "\n",
        "# Repeat for each segment\n",
        "start_time = 0\n",
        "while start_time < audio_duration:\n",
        "    # Record the audio for the current segment\n",
        "    with audio_file as source:\n",
        "        audio = r.record(source, offset=start_time, duration=segment_duration)\n",
        "        if len(audio.get_raw_data()) == 0:\n",
        "            break\n",
        "\n",
        "    # Transcribe the audio\n",
        "    transcription = r.recognize_sphinx(audio)\n",
        "\n",
        "    # Check if the phrase \"color blind\" is in the transcription\n",
        "    if \"color blind\" in transcription:\n",
        "        print(\"{}: {}\".format(format_time(start_time), transcription))\n",
        "\n",
        "    # Increment the start time\n",
        "    start_time += segment_duration\n"
      ],
      "metadata": {
        "colab": {
          "base_uri": "https://localhost:8080/"
        },
        "id": "5RFB3QnjJzk3",
        "outputId": "f06d5024-341a-4431-bdfb-567414ee9748"
      },
      "execution_count": 13,
      "outputs": [
        {
          "output_type": "stream",
          "name": "stdout",
          "text": [
            "0:01:00: your history and and i can't change what i can if you touch color blind and because the past is a violent acts to see what it belongs to those of you who live in and it's not for interlopers for people who just passing by ok an english to one near you come i'm going to right where i came for which no one world that among them i find out who love doesn't make him to have to woo who actually in front of even so i from what i\n"
          ]
        }
      ]
    }
  ]
}